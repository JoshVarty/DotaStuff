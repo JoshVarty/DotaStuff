{
 "cells": [
  {
   "cell_type": "markdown",
   "id": "7c27b246",
   "metadata": {},
   "source": [
    "# Clean Training Set\n",
    "\n",
    "Now that we've downloaded a bunch of Dota 2 games, let's clean up the dataset and format it so it's easier for us to train our model on it."
   ]
  },
  {
   "cell_type": "code",
   "execution_count": 1,
   "id": "39e514ea",
   "metadata": {},
   "outputs": [],
   "source": [
    "import os\n",
    "import re\n",
    "import json\n",
    "import time\n",
    "import tqdm\n",
    "import datetime\n",
    "import requests\n",
    "import pandas as pd\n",
    "from os.path import exists"
   ]
  },
  {
   "cell_type": "code",
   "execution_count": 2,
   "id": "6dc31833",
   "metadata": {},
   "outputs": [],
   "source": [
    "# Stored outside of repo because it's 30GB\n",
    "path = '../data/dota_2_bulk.tsv'"
   ]
  },
  {
   "cell_type": "code",
   "execution_count": 3,
   "id": "8c225c1a",
   "metadata": {},
   "outputs": [
    {
     "data": {
      "text/plain": [
       "4212632"
      ]
     },
     "execution_count": 3,
     "metadata": {},
     "output_type": "execute_result"
    }
   ],
   "source": [
    "# How many games (lines) do we have?\n",
    "num_games = sum(1 for line in open(path))\n",
    "num_games"
   ]
  },
  {
   "cell_type": "code",
   "execution_count": 61,
   "id": "36a04ed6",
   "metadata": {
    "scrolled": true
   },
   "outputs": [
    {
     "name": "stderr",
     "output_type": "stream",
     "text": [
      "/tmp/ipykernel_7649/3186834071.py:7: TqdmDeprecationWarning: This function will be removed in tqdm==5.0.0\n",
      "Please use `tqdm.notebook.tqdm` instead of `tqdm.tqdm_notebook`\n",
      "  for line in tqdm.tqdm_notebook(file):\n"
     ]
    },
    {
     "data": {
      "application/vnd.jupyter.widget-view+json": {
       "model_id": "f5c7c13d9818441ca6e523a06eae5e11",
       "version_major": 2,
       "version_minor": 0
      },
      "text/plain": [
       "0it [00:00, ?it/s]"
      ]
     },
     "metadata": {},
     "output_type": "display_data"
    },
    {
     "name": "stdout",
     "output_type": "stream",
     "text": [
      "{\"players\": [{\"account_id\": 4294967295, \"player_slot\": 0, \"hero_id\": 20, \"item_0\": 92, \"item_1\": 21, \"item_2\": 218, \"item_3\": 60, \"item_4\": 180, \"item_5\": 229, \"backpack_0\": 22, \"backpack_1\": 573, \"backpack_2\": 0, \"item_neutral\": 354, \"kills\": 7, \"deaths\": 4, \"assists\": 19, \"leaver_status\": 0, \"last_hits\": 34, \"denies\": 1, \"gold_per_min\": 318, \"xp_per_min\": 396, \"level\": 16, \"net_worth\": 9469, \"aghanims_scepter\": 0, \"aghanims_shard\": 0, \"moonshard\": 0}, {\"account_id\": 4294967295, \"player_slot\": 1, \"hero_id\": 14, \"item_0\": 1, \"item_1\": 90, \"item_2\": 214, \"item_3\": 206, \"item_4\": 0, \"item_5\": 38, \"backpack_0\": 0, \"backpack_1\": 0, \"backpack_2\": 0, \"item_neutral\": 356, \"kills\": 6, \"deaths\": 1, \"assists\": 26, \"leaver_status\": 0, \"last_hits\": 67, \"denies\": 3, \"gold_per_min\": 371, \"xp_per_min\": 585, \"level\": 21, \"net_worth\": 10864, \"aghanims_scepter\": 0, \"aghanims_shard\": 0, \"moonshard\": 0}, {\"account_id\": 1105812798, \"player_slot\": 2, \"hero_id\": 99, \"item_0\": 154, \"item_1\": 242, \"item_2\": 692, \"item_3\": 265, \"item_4\": 114, \"item_5\": 63, \"backpack_0\": 0, \"backpack_1\": 0, \"backpack_2\": 0, \"item_neutral\": 680, \"kills\": 21, \"deaths\": 2, \"assists\": 8, \"leaver_status\": 0, \"last_hits\": 162, \"denies\": 7, \"gold_per_min\": 590, \"xp_per_min\": 820, \"level\": 24, \"net_worth\": 19027, \"aghanims_scepter\": 0, \"aghanims_shard\": 0, \"moonshard\": 0}, {\"account_id\": 438640339, \"player_slot\": 3, \"hero_id\": 106, \"item_0\": 108, \"item_1\": 36, \"item_2\": 569, \"item_3\": 50, \"item_4\": 166, \"item_5\": 48, \"backpack_0\": 41, \"backpack_1\": 0, \"backpack_2\": 0, \"item_neutral\": 289, \"kills\": 6, \"deaths\": 4, \"assists\": 13, \"leaver_status\": 0, \"last_hits\": 164, \"denies\": 14, \"gold_per_min\": 463, \"xp_per_min\": 603, \"level\": 21, \"net_worth\": 13425, \"aghanims_scepter\": 0, \"aghanims_shard\": 0, \"moonshard\": 0}, {\"account_id\": 427304251, \"player_slot\": 4, \"hero_id\": 42, \"item_0\": 151, \"item_1\": 1, \"item_2\": 36, \"item_3\": 21, \"item_4\": 8, \"item_5\": 50, \"backpack_0\": 0, \"backpack_1\": 0, \"backpack_2\": 0, \"item_neutral\": 306, \"kills\": 5, \"deaths\": 0, \"assists\": 12, \"leaver_status\": 0, \"last_hits\": 130, \"denies\": 23, \"gold_per_min\": 427, \"xp_per_min\": 561, \"level\": 20, \"net_worth\": 14325, \"aghanims_scepter\": 0, \"aghanims_shard\": 0, \"moonshard\": 0}, {\"account_id\": 4294967295, \"player_slot\": 128, \"hero_id\": 74, \"item_0\": 92, \"item_1\": 77, \"item_2\": 61, \"item_3\": 36, \"item_4\": 29, \"item_5\": 0, \"backpack_0\": 0, \"backpack_1\": 0, \"backpack_2\": 0, \"item_neutral\": 287, \"kills\": 0, \"deaths\": 15, \"assists\": 5, \"leaver_status\": 0, \"last_hits\": 14, \"denies\": 2, \"gold_per_min\": 180, \"xp_per_min\": 224, \"level\": 12, \"net_worth\": 4145, \"aghanims_scepter\": 0, \"aghanims_shard\": 0, \"moonshard\": 0}, {\"account_id\": 4294967295, \"player_slot\": 129, \"hero_id\": 11, \"item_0\": 100, \"item_1\": 1, \"item_2\": 48, \"item_3\": 116, \"item_4\": 218, \"item_5\": 36, \"backpack_0\": 0, \"backpack_1\": 0, \"backpack_2\": 0, \"item_neutral\": 212, \"kills\": 6, \"deaths\": 8, \"assists\": 2, \"leaver_status\": 0, \"last_hits\": 248, \"denies\": 18, \"gold_per_min\": 494, \"xp_per_min\": 631, \"level\": 21, \"net_worth\": 12996, \"aghanims_scepter\": 0, \"aghanims_shard\": 0, \"moonshard\": 0}, {\"account_id\": 4294967295, \"player_slot\": 130, \"hero_id\": 7, \"item_0\": 1, \"item_1\": 102, \"item_2\": 180, \"item_3\": 73, \"item_4\": 218, \"item_5\": 0, \"backpack_0\": 188, \"backpack_1\": 0, \"backpack_2\": 0, \"item_neutral\": 354, \"kills\": 0, \"deaths\": 9, \"assists\": 6, \"leaver_status\": 0, \"last_hits\": 89, \"denies\": 5, \"gold_per_min\": 253, \"xp_per_min\": 427, \"level\": 17, \"net_worth\": 6592, \"aghanims_scepter\": 0, \"aghanims_shard\": 0, \"moonshard\": 0}, {\"account_id\": 1045213\n",
      "Expecting ',' delimiter: line 1 column 3580 (char 3579)\n",
      "{'players': [{'account_id': 4294967295, 'player_slot': 0, 'hero_id': 20, 'item_0': 92, 'item_1': 21, 'item_2': 218, 'item_3': 60, 'item_4': 180, 'item_5': 229, 'backpack_0': 22, 'backpack_1': 573, 'backpack_2': 0, 'item_neutral': 354, 'kills': 7, 'deaths': 4, 'assists': 19, 'leaver_status': 0, 'last_hits': 34, 'denies': 1, 'gold_per_min': 318, 'xp_per_min': 396, 'level': 16, 'net_worth': 9469, 'aghanims_scepter': 0, 'aghanims_shard': 0, 'moonshard': 0}, {'account_id': 4294967295, 'player_slot': 1, 'hero_id': 14, 'item_0': 1, 'item_1': 90, 'item_2': 214, 'item_3': 206, 'item_4': 0, 'item_5': 38, 'backpack_0': 0, 'backpack_1': 0, 'backpack_2': 0, 'item_neutral': 356, 'kills': 6, 'deaths': 1, 'assists': 26, 'leaver_status': 0, 'last_hits': 67, 'denies': 3, 'gold_per_min': 371, 'xp_per_min': 585, 'level': 21, 'net_worth': 10864, 'aghanims_scepter': 0, 'aghanims_shard': 0, 'moonshard': 0}, {'account_id': 1105812798, 'player_slot': 2, 'hero_id': 99, 'item_0': 154, 'item_1': 242, 'item_2': 692, 'item_3': 265, 'item_4': 114, 'item_5': 63, 'backpack_0': 0, 'backpack_1': 0, 'backpack_2': 0, 'item_neutral': 680, 'kills': 21, 'deaths': 2, 'assists': 8, 'leaver_status': 0, 'last_hits': 162, 'denies': 7, 'gold_per_min': 590, 'xp_per_min': 820, 'level': 24, 'net_worth': 19027, 'aghanims_scepter': 0, 'aghanims_shard': 0, 'moonshard': 0}, {'account_id': 438640339, 'player_slot': 3, 'hero_id': 106, 'item_0': 108, 'item_1': 36, 'item_2': 569, 'item_3': 50, 'item_4': 166, 'item_5': 48, 'backpack_0': 41, 'backpack_1': 0, 'backpack_2': 0, 'item_neutral': 289, 'kills': 6, 'deaths': 4, 'assists': 13, 'leaver_status': 0, 'last_hits': 164, 'denies': 14, 'gold_per_min': 463, 'xp_per_min': 603, 'level': 21, 'net_worth': 13425, 'aghanims_scepter': 0, 'aghanims_shard': 0, 'moonshard': 0}, {'account_id': 427304251, 'player_slot': 4, 'hero_id': 42, 'item_0': 151, 'item_1': 1, 'item_2': 36, 'item_3': 21, 'item_4': 8, 'item_5': 50, 'backpack_0': 0, 'backpack_1': 0, 'backpack_2': 0, 'item_neutral': 306, 'kills': 5, 'deaths': 0, 'assists': 12, 'leaver_status': 0, 'last_hits': 130, 'denies': 23, 'gold_per_min': 427, 'xp_per_min': 561, 'level': 20, 'net_worth': 14325, 'aghanims_scepter': 0, 'aghanims_shard': 0, 'moonshard': 0}, {'account_id': 4294967295, 'player_slot': 128, 'hero_id': 74, 'item_0': 92, 'item_1': 77, 'item_2': 61, 'item_3': 36, 'item_4': 29, 'item_5': 0, 'backpack_0': 0, 'backpack_1': 0, 'backpack_2': 0, 'item_neutral': 287, 'kills': 0, 'deaths': 15, 'assists': 5, 'leaver_status': 0, 'last_hits': 14, 'denies': 2, 'gold_per_min': 180, 'xp_per_min': 224, 'level': 12, 'net_worth': 4145, 'aghanims_scepter': 0, 'aghanims_shard': 0, 'moonshard': 0}, {'account_id': 4294967295, 'player_slot': 129, 'hero_id': 11, 'item_0': 100, 'item_1': 1, 'item_2': 48, 'item_3': 116, 'item_4': 218, 'item_5': 36, 'backpack_0': 0, 'backpack_1': 0, 'backpack_2': 0, 'item_neutral': 212, 'kills': 6, 'deaths': 8, 'assists': 2, 'leaver_status': 0, 'last_hits': 248, 'denies': 18, 'gold_per_min': 494, 'xp_per_min': 631, 'level': 21, 'net_worth': 12996, 'aghanims_scepter': 0, 'aghanims_shard': 0, 'moonshard': 0}, {'account_id': 4294967295, 'player_slot': 130, 'hero_id': 7, 'item_0': 1, 'item_1': 102, 'item_2': 180, 'item_3': 73, 'item_4': 218, 'item_5': 0, 'backpack_0': 188, 'backpack_1': 0, 'backpack_2': 0, 'item_neutral': 354, 'kills': 0, 'deaths': 9, 'assists': 6, 'leaver_status': 0, 'last_hits': 89, 'denies': 5, 'gold_per_min': 253, 'xp_per_min': 427, 'level': 17, 'net_worth': 6592, 'aghanims_scepter': 0, 'aghanims_shard': 0, 'moonshard': 0}, {'account_id': 1045213\n",
      "Num failures: 1\n"
     ]
    }
   ],
   "source": [
    "# Now read each line, parse the JSON and rip out the information we're interested in.\n",
    "\n",
    "num_failures = 0\n",
    "training_set = []\n",
    "\n",
    "with open(path) as file:\n",
    "  for line in tqdm.tqdm_notebook(file):\n",
    "    seq_num, raw_json = line.split('\\t')\n",
    "    # TODO(joshvarty): Remove once we dump JSON correctly.\n",
    "    # Some team names have quotations in them. We'll just skip them for now.\n",
    "    if '\\\"' in raw_json:\n",
    "      continue\n",
    "    # When I called str(json) when saving this file it used single quotations.\n",
    "    # Apparently this is not valid JSON. We'll cross our fingers and hope we can just\n",
    "    # replace them with double quotes without any problems.\n",
    "    raw_json = raw_json.replace(\"\\'\", \"\\\"\")\n",
    "    # We also have to replace Python's True/False with true/false\n",
    "    raw_json = raw_json.replace(\"True\", \"true\")\n",
    "    raw_json = raw_json.replace(\"False\", \"false\")\n",
    "    try:\n",
    "      match = json.loads(raw_json)\n",
    "      players = match['players']\n",
    "      hero0 = players[0]['hero_id']\n",
    "      hero1 = players[1]['hero_id']\n",
    "      hero2 = players[2]['hero_id']\n",
    "      hero3 = players[3]['hero_id']\n",
    "      hero4 = players[4]['hero_id']\n",
    "      hero5 = players[5]['hero_id']\n",
    "      hero6 = players[6]['hero_id']\n",
    "      hero7 = players[7]['hero_id']\n",
    "      hero8 = players[8]['hero_id']\n",
    "      hero9 = players[9]['hero_id']\n",
    "      # Convert to float target.\n",
    "      radiant_win = float(match['radiant_win'])\n",
    "      training_set.append((hero0, hero1, hero2, hero3, hero4,\n",
    "                    hero5, hero6, hero7, hero8, hero9,\n",
    "                    radiant_win))\n",
    "    except Exception as e:\n",
    "      print(raw_json)\n",
    "      print(e)\n",
    "      \n",
    "      _, original = line.split('\\t')\n",
    "      print(original)\n",
    "      num_failures +=1\n",
    "      \n",
    "print(\"Num failures:\" , num_failures)"
   ]
  },
  {
   "cell_type": "code",
   "execution_count": 63,
   "id": "61609a6b",
   "metadata": {},
   "outputs": [
    {
     "data": {
      "text/plain": [
       "4212425"
      ]
     },
     "execution_count": 63,
     "metadata": {},
     "output_type": "execute_result"
    }
   ],
   "source": [
    "# Not sure why we're missing like 1 million rows...\n",
    "len(training_set)"
   ]
  },
  {
   "cell_type": "code",
   "execution_count": 68,
   "id": "5bec68e6",
   "metadata": {},
   "outputs": [
    {
     "data": {
      "text/html": [
       "<div>\n",
       "<style scoped>\n",
       "    .dataframe tbody tr th:only-of-type {\n",
       "        vertical-align: middle;\n",
       "    }\n",
       "\n",
       "    .dataframe tbody tr th {\n",
       "        vertical-align: top;\n",
       "    }\n",
       "\n",
       "    .dataframe thead th {\n",
       "        text-align: right;\n",
       "    }\n",
       "</style>\n",
       "<table border=\"1\" class=\"dataframe\">\n",
       "  <thead>\n",
       "    <tr style=\"text-align: right;\">\n",
       "      <th></th>\n",
       "      <th>hero0</th>\n",
       "      <th>hero1</th>\n",
       "      <th>hero2</th>\n",
       "      <th>hero3</th>\n",
       "      <th>hero4</th>\n",
       "      <th>hero5</th>\n",
       "      <th>hero6</th>\n",
       "      <th>hero7</th>\n",
       "      <th>hero8</th>\n",
       "      <th>hero9</th>\n",
       "      <th>radiant_win</th>\n",
       "    </tr>\n",
       "  </thead>\n",
       "  <tbody>\n",
       "    <tr>\n",
       "      <th>0</th>\n",
       "      <td>23</td>\n",
       "      <td>26</td>\n",
       "      <td>36</td>\n",
       "      <td>42</td>\n",
       "      <td>119</td>\n",
       "      <td>74</td>\n",
       "      <td>104</td>\n",
       "      <td>100</td>\n",
       "      <td>54</td>\n",
       "      <td>47</td>\n",
       "      <td>True</td>\n",
       "    </tr>\n",
       "    <tr>\n",
       "      <th>1</th>\n",
       "      <td>126</td>\n",
       "      <td>8</td>\n",
       "      <td>30</td>\n",
       "      <td>17</td>\n",
       "      <td>14</td>\n",
       "      <td>39</td>\n",
       "      <td>26</td>\n",
       "      <td>123</td>\n",
       "      <td>2</td>\n",
       "      <td>54</td>\n",
       "      <td>False</td>\n",
       "    </tr>\n",
       "    <tr>\n",
       "      <th>2</th>\n",
       "      <td>40</td>\n",
       "      <td>4</td>\n",
       "      <td>52</td>\n",
       "      <td>8</td>\n",
       "      <td>93</td>\n",
       "      <td>44</td>\n",
       "      <td>108</td>\n",
       "      <td>5</td>\n",
       "      <td>59</td>\n",
       "      <td>58</td>\n",
       "      <td>True</td>\n",
       "    </tr>\n",
       "    <tr>\n",
       "      <th>3</th>\n",
       "      <td>47</td>\n",
       "      <td>101</td>\n",
       "      <td>42</td>\n",
       "      <td>109</td>\n",
       "      <td>1</td>\n",
       "      <td>81</td>\n",
       "      <td>67</td>\n",
       "      <td>35</td>\n",
       "      <td>28</td>\n",
       "      <td>50</td>\n",
       "      <td>True</td>\n",
       "    </tr>\n",
       "    <tr>\n",
       "      <th>4</th>\n",
       "      <td>26</td>\n",
       "      <td>14</td>\n",
       "      <td>76</td>\n",
       "      <td>70</td>\n",
       "      <td>81</td>\n",
       "      <td>23</td>\n",
       "      <td>58</td>\n",
       "      <td>54</td>\n",
       "      <td>64</td>\n",
       "      <td>34</td>\n",
       "      <td>True</td>\n",
       "    </tr>\n",
       "  </tbody>\n",
       "</table>\n",
       "</div>"
      ],
      "text/plain": [
       "   hero0  hero1  hero2  hero3  hero4  hero5  hero6  hero7  hero8  hero9  \\\n",
       "0     23     26     36     42    119     74    104    100     54     47   \n",
       "1    126      8     30     17     14     39     26    123      2     54   \n",
       "2     40      4     52      8     93     44    108      5     59     58   \n",
       "3     47    101     42    109      1     81     67     35     28     50   \n",
       "4     26     14     76     70     81     23     58     54     64     34   \n",
       "\n",
       "   radiant_win  \n",
       "0         True  \n",
       "1        False  \n",
       "2         True  \n",
       "3         True  \n",
       "4         True  "
      ]
     },
     "execution_count": 68,
     "metadata": {},
     "output_type": "execute_result"
    }
   ],
   "source": [
    "df = pd.DataFrame(training_set, \n",
    "             columns=['hero0', 'hero1', 'hero2', 'hero3', 'hero4',\n",
    "                      'hero5', 'hero6', 'hero7', 'hero8', 'hero9',\n",
    "                      'radiant_win'])\n",
    "df.head()"
   ]
  },
  {
   "cell_type": "code",
   "execution_count": 69,
   "id": "691c4ac0",
   "metadata": {},
   "outputs": [],
   "source": [
    "df.to_csv(\"training_set_large.csv\", index=False)"
   ]
  }
 ],
 "metadata": {
  "kernelspec": {
   "display_name": "Python 3 (ipykernel)",
   "language": "python",
   "name": "python3"
  },
  "language_info": {
   "codemirror_mode": {
    "name": "ipython",
    "version": 3
   },
   "file_extension": ".py",
   "mimetype": "text/x-python",
   "name": "python",
   "nbconvert_exporter": "python",
   "pygments_lexer": "ipython3",
   "version": "3.8.10"
  }
 },
 "nbformat": 4,
 "nbformat_minor": 5
}
