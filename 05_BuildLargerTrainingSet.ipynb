{
 "cells": [
  {
   "cell_type": "markdown",
   "id": "670644f3",
   "metadata": {},
   "source": [
    "## Build Larger Training Set"
   ]
  },
  {
   "cell_type": "markdown",
   "id": "aaae3e39",
   "metadata": {},
   "source": [
    "Now that this project looks somewhat promising. Let's build a proper dataset. The Steam API makes this extremely painful.\n",
    "\n",
    "I don't ever want to have to do this again in my life, so we should try to pull down everything we could ever want and then just use that in the future."
   ]
  },
  {
   "cell_type": "code",
   "execution_count": 1,
   "id": "f53fc4a2",
   "metadata": {},
   "outputs": [],
   "source": [
    "import os\n",
    "import json\n",
    "import time\n",
    "import datetime\n",
    "import requests\n",
    "from os.path import exists"
   ]
  },
  {
   "cell_type": "code",
   "execution_count": 1,
   "id": "3961a2b5",
   "metadata": {},
   "outputs": [],
   "source": [
    "import tqdm"
   ]
  },
  {
   "cell_type": "code",
   "execution_count": null,
   "id": "353fb52f",
   "metadata": {},
   "outputs": [],
   "source": [
    "for tqdm.tqdm_notebook()"
   ]
  },
  {
   "cell_type": "code",
   "execution_count": 2,
   "id": "8ff64257",
   "metadata": {},
   "outputs": [
    {
     "name": "stdout",
     "output_type": "stream",
     "text": [
      "Found API Key.\n"
     ]
    }
   ],
   "source": [
    "if 'STEAM_API_KEY' not in os.environ:\n",
    "  print(\"No API Key :(\")\n",
    "else:\n",
    "  print(\"Found API Key.\")\n",
    "  STEAM_API_KEY = os.environ['STEAM_API_KEY']"
   ]
  },
  {
   "cell_type": "code",
   "execution_count": 3,
   "id": "977988fd",
   "metadata": {},
   "outputs": [],
   "source": [
    "base_url = 'https://api.steampowered.com'\n",
    "\n",
    "# The maximum number of matches the API will return at once.\n",
    "num_matches_per_request = 100\n",
    "\n",
    "def __request(method, path, **kwargs):\n",
    "  url = base_url + path\n",
    "  kwargs.setdefault('params', dict()).update(key=STEAM_API_KEY)\n",
    "\n",
    "  max_tries = 5\n",
    "  num_tries = 0\n",
    "  while num_tries < max_tries:\n",
    "    try:\n",
    "      response = requests.request(method, url, **kwargs)\n",
    "      if response.status_code == 429:\n",
    "        print(\"429. Backing off.\")\n",
    "        print(response.headers)\n",
    "        time.sleep(60)\n",
    "        num_tries += 1\n",
    "        continue\n",
    "      response_json = response.json()\n",
    "      return response_json\n",
    "    except:\n",
    "      print(\"Error on request.\")\n",
    "    \n",
    "    num_tries += 1\n",
    "    time.sleep(60)\n",
    "\n",
    "\n",
    "def get_match_history_by_seq_num(seq_num, num_matches, **params):\n",
    "  path = '/IDOTA2Match_570/GetMatchHistoryBySequenceNum/V001'\n",
    "  params.update(start_at_match_seq_num=seq_num)\n",
    "  params.update(matches_requested=num_matches)\n",
    "  return __request('get', path, params=params)\n",
    "\n",
    "def get_most_recent_matches():\n",
    "  path = '/IDOTA2Match_570/GetMatchHistory/V001'\n",
    "  return __request('get', path)\n",
    "\n",
    "def get_most_recent_seq_number():\n",
    "  response = get_most_recent_matches()\n",
    "  most_recent_matches = response['result']\n",
    "  \n",
    "  max_seq_num = -1\n",
    "  for match in most_recent_matches:\n",
    "    seq_num = match['match_seq_num']\n",
    "    max_seq_num = max(match_seq_num, max_seq_num)\n",
    "    \n",
    "  return max_seq_num\n"
   ]
  },
  {
   "cell_type": "code",
   "execution_count": 4,
   "id": "5b3c6e57",
   "metadata": {},
   "outputs": [],
   "source": [
    "# Remove unnecessary fields from game result. \n",
    "# We do this to minimize the space needed to store everything.\n",
    "def delete_if_present(json, key):\n",
    "  if key in json:\n",
    "    del json[key]\n",
    "    \n",
    "def clean_match(match):\n",
    "  delete_if_present(match, 'tower_status_radiant')\n",
    "  delete_if_present(match, 'tower_status_dire')\n",
    "  delete_if_present(match, 'barracks_status_radiant')\n",
    "  delete_if_present(match, 'barracks_status_dire')\n",
    "  delete_if_present(match, 'positive_votes')\n",
    "  delete_if_present(match, 'negative_votes')\n",
    "  delete_if_present(match, 'radiant_score')\n",
    "  delete_if_present(match, 'dire_score')\n",
    "  delete_if_present(match, 'picks_bans')\n",
    "  for player in match['players']:\n",
    "    delete_if_present(player, 'item_0')\n",
    "    delete_if_present(player, 'item_1')\n",
    "    delete_if_present(player, 'item_2')\n",
    "    delete_if_present(player, 'item_3')\n",
    "    delete_if_present(player, 'item_4')\n",
    "    delete_if_present(player, 'item_5')\n",
    "    delete_if_present(player, 'backpack_0')\n",
    "    delete_if_present(player, 'backpack_1')\n",
    "    delete_if_present(player, 'backpack_2')\n",
    "    delete_if_present(player, 'item_neutral')\n",
    "    delete_if_present(player, 'kills')\n",
    "    delete_if_present(player, 'deaths')\n",
    "    delete_if_present(player, 'assists')\n",
    "    delete_if_present(player, 'last_hits')\n",
    "    delete_if_present(player, 'denies')\n",
    "    delete_if_present(player, 'gold_per_min')\n",
    "    delete_if_present(player, 'level')\n",
    "    delete_if_present(player, 'net_worth')\n",
    "    delete_if_present(player, 'aghanims_scepter')\n",
    "    delete_if_present(player, 'aghanims_shard')\n",
    "    delete_if_present(player, 'moonshard')\n",
    "    delete_if_present(player, 'xp_per_min')\n",
    "    delete_if_present(player, 'additional_units')  "
   ]
  },
  {
   "cell_type": "code",
   "execution_count": null,
   "id": "a1d3c308",
   "metadata": {
    "scrolled": true
   },
   "outputs": [],
   "source": [
    "bulk_download_path = \"dota_2_bulk.tsv\"\n",
    "\n",
    "# We start at a sequence number from August 7, 2021 and work forward.\n",
    "current_seq_num = 5125140861\n",
    "\n",
    "if exists(bulk_download_path):\n",
    "  print(\"Bulk file found. Scanning for last (largest) sequence number.\")\n",
    "  max_seq_num = current_seq_num\n",
    "  with open(bulk_download_path, 'r') as bulk_file:\n",
    "    for line in bulk_file:\n",
    "        match_seq_num, _ = line.split('\\t')\n",
    "        max_seq_num = max(max_seq_num, int(match_seq_num))\n",
    "        \n",
    "  current_seq_num = max_seq_num\n",
    "\n",
    "else:\n",
    "  print(\"No Dota 2 Bulk File. Creating...\")\n",
    "  # Create the file, find the latest seq_num\n",
    "  with open(bulk_download_path, 'w') as bulk_file:\n",
    "    # Just create the file\n",
    "    pass\n",
    "\n",
    "print(\"Starting at: \", current_seq_num)\n",
    "num_iters = 0\n",
    "max_seq_num = current_seq_num\n",
    "\n",
    "with open(bulk_download_path, 'a') as bulk_file:\n",
    "  while True:\n",
    "    if num_iters % 100 == 0:\n",
    "      print(\"Iterations: \", num_iters, \". seq_num: \", current_seq_num)\n",
    "\n",
    "    # Don't hit the API too frequently.\n",
    "    time.sleep(2)\n",
    "    response = get_match_history_by_seq_num(current_seq_num, num_matches_per_request)\n",
    "\n",
    "    if response is None:\n",
    "      print(\"Skipping. Response was None...\")\n",
    "      time.sleep(300)\n",
    "      continue\n",
    "\n",
    "    try:\n",
    "      matches = response['result']['matches']\n",
    "    except Exception as e:\n",
    "      print(\"Bad error. This would normally break everything...\")\n",
    "      print(e)\n",
    "      print(response)\n",
    "      # Just wait 5 minutes before going again.\n",
    "      time.sleep(300)\n",
    "      continue\n",
    "\n",
    "    if len(matches) != num_matches_per_request:\n",
    "        print(\"Problem. Expected: \" + num_matches_per_request + \" matches. Actual: \", len(matches))\n",
    "        print(response)\n",
    "        break\n",
    "\n",
    "    for match in matches:\n",
    "        # Remove unneeded information to save space.\n",
    "        clean_match(match)\n",
    "        if match['human_players'] != 10:\n",
    "            # We only want \"real\" games of Dota so we're ignoring\n",
    "            # games without 10 human players.\n",
    "            continue\n",
    "\n",
    "        try:\n",
    "          match_seq_num = match['match_seq_num']\n",
    "\n",
    "          str_json = json.dumps(match)\n",
    "\n",
    "          if \"\\t\" in str_json:\n",
    "            print(\"TAB DETECTED IN JSON!\")\n",
    "            print(str_json)\n",
    "            continue\n",
    "\n",
    "          output_str = str(match_seq_num) + \"\\t\" + str_json + \"\\n\"\n",
    "          bulk_file.write(output_str)\n",
    "\n",
    "          max_seq_num = max(max_seq_num, match_seq_num)\n",
    "        except Exception as e:\n",
    "          print(e)\n",
    "          print(\"Error:\", match)\n",
    "          break\n",
    "\n",
    "\n",
    "    current_seq_num = max_seq_num + 1\n",
    "    num_iters += 1\n",
    "\n",
    "\n",
    "print(\"Complete.\")"
   ]
  },
  {
   "cell_type": "markdown",
   "id": "352c4ba4",
   "metadata": {},
   "source": [
    "#### Not sure what that last error was. We should update the script to handle that in the future. For now I have over 5 million games of Dota downloaded so I'm going to leave it."
   ]
  },
  {
   "cell_type": "markdown",
   "id": "4ae08ee2",
   "metadata": {},
   "source": [
    "#### Problem at: 1264575 perhaps. We'll have to look into it."
   ]
  },
  {
   "cell_type": "code",
   "execution_count": null,
   "id": "a6649196",
   "metadata": {},
   "outputs": [],
   "source": []
  }
 ],
 "metadata": {
  "kernelspec": {
   "display_name": "Python 3 (ipykernel)",
   "language": "python",
   "name": "python3"
  },
  "language_info": {
   "codemirror_mode": {
    "name": "ipython",
    "version": 3
   },
   "file_extension": ".py",
   "mimetype": "text/x-python",
   "name": "python",
   "nbconvert_exporter": "python",
   "pygments_lexer": "ipython3",
   "version": "3.9.12"
  }
 },
 "nbformat": 4,
 "nbformat_minor": 5
}
