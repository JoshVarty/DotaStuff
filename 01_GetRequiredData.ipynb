{
 "cells": [
  {
   "cell_type": "markdown",
   "metadata": {},
   "source": [
    "# Get Required Data"
   ]
  },
  {
   "cell_type": "markdown",
   "metadata": {},
   "source": [
    "We want to train a machine learning classifier to predict the outcome of a game of Dota 2 after heroes have been selected. Let's take a look at exactly what data we need and where we can get it from."
   ]
  },
  {
   "cell_type": "markdown",
   "metadata": {},
   "source": [
    "### Required Data"
   ]
  },
  {
   "cell_type": "markdown",
   "metadata": {},
   "source": [
    "#### Required Input:\n",
    "\n",
    " - Radiant Hero IDs 0-4\n",
    " - Dire Hero IDs 0-4\n",
    " - Date\n",
    " \n",
    "#### Required Output:\n",
    "\n",
    " - Winner (Radiant or Dire)\n",
    " \n",
    " \n",
    "#### Optional Input\n",
    " - Radiant Player IDs 0-4\n",
    " - Dire Player IDs 0-4\n",
    " - Patch number\n",
    " - Starting items\n",
    " - Starting gold\n"
   ]
  },
  {
   "cell_type": "markdown",
   "metadata": {},
   "source": [
    "For now we'll build the simplest possible system so we'll only start with the required input and output."
   ]
  },
  {
   "cell_type": "code",
   "execution_count": 1,
   "metadata": {},
   "outputs": [],
   "source": [
    "import os\n",
    "import json\n",
    "import time\n",
    "import datetime\n",
    "import requests"
   ]
  },
  {
   "cell_type": "code",
   "execution_count": 2,
   "metadata": {},
   "outputs": [
    {
     "name": "stdout",
     "output_type": "stream",
     "text": [
      "Found API Key.\n"
     ]
    }
   ],
   "source": [
    "if 'STEAM_API_KEY' not in os.environ:\n",
    "  print(\"No API Key :(\")\n",
    "else:\n",
    "  print(\"Found API Key.\")\n",
    "  STEAM_API_KEY = os.environ['STEAM_API_KEY']"
   ]
  },
  {
   "cell_type": "code",
   "execution_count": 6,
   "metadata": {},
   "outputs": [],
   "source": [
    "base_url = 'https://api.steampowered.com'\n",
    "\n",
    "def __request(method, path, **kwargs):\n",
    "  url = base_url + path\n",
    "  kwargs.setdefault('params', dict()).update(key=STEAM_API_KEY)\n",
    "  response = requests.request(method, url, **kwargs)\n",
    "  return response.json()\n",
    "\n",
    "def get_match_history_by_seq_num(seq_num, num_matches, **params):\n",
    "  path = '/IDOTA2Match_570/GetMatchHistoryBySequenceNum/V001'\n",
    "  params.update(start_at_match_seq_num=seq_num)\n",
    "  params.update(matches_requested=num_matches)  \n",
    "  return __request('get', path, params=params)"
   ]
  },
  {
   "cell_type": "code",
   "execution_count": 7,
   "metadata": {},
   "outputs": [],
   "source": [
    "response = get_match_history_by_seq_num(5126114401, 1)"
   ]
  },
  {
   "cell_type": "code",
   "execution_count": 16,
   "metadata": {},
   "outputs": [],
   "source": [
    "def get_hero_id(response, player_id):\n",
    "    players = response['result']['matches'][0]['players']\n",
    "    return players[player_id]['hero_id']"
   ]
  },
  {
   "cell_type": "code",
   "execution_count": 20,
   "metadata": {},
   "outputs": [
    {
     "name": "stdout",
     "output_type": "stream",
     "text": [
      "62\n",
      "14\n",
      "106\n",
      "28\n",
      "11\n",
      "10\n",
      "85\n",
      "112\n",
      "2\n",
      "48\n"
     ]
    }
   ],
   "source": [
    "for i in range(0, 10):\n",
    "    print(get_hero_id(response, i))"
   ]
  },
  {
   "cell_type": "code",
   "execution_count": 23,
   "metadata": {},
   "outputs": [
    {
     "data": {
      "text/plain": [
       "True"
      ]
     },
     "execution_count": 23,
     "metadata": {},
     "output_type": "execute_result"
    }
   ],
   "source": [
    "response['result']['matches'][0]['radiant_win']"
   ]
  },
  {
   "cell_type": "code",
   "execution_count": 24,
   "metadata": {},
   "outputs": [
    {
     "data": {
      "text/plain": [
       "1628362217"
      ]
     },
     "execution_count": 24,
     "metadata": {},
     "output_type": "execute_result"
    }
   ],
   "source": [
    "response['result']['matches'][0]['start_time']"
   ]
  },
  {
   "cell_type": "markdown",
   "metadata": {},
   "source": [
    "Not so bad! Next, let's collect this information in bulk."
   ]
  }
 ],
 "metadata": {
  "kernelspec": {
   "display_name": "Python (dl)",
   "language": "python",
   "name": "dl"
  },
  "language_info": {
   "codemirror_mode": {
    "name": "ipython",
    "version": 3
   },
   "file_extension": ".py",
   "mimetype": "text/x-python",
   "name": "python",
   "nbconvert_exporter": "python",
   "pygments_lexer": "ipython3",
   "version": "3.7.6"
  }
 },
 "nbformat": 4,
 "nbformat_minor": 4
}
