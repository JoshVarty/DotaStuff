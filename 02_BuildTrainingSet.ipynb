{
 "cells": [
  {
   "cell_type": "markdown",
   "metadata": {},
   "source": [
    "## Build Training Set"
   ]
  },
  {
   "cell_type": "markdown",
   "metadata": {},
   "source": [
    "Now that we know what data we'd like to get from the API, let's try to create a training set. To get started we'll try to get ~10,000 games."
   ]
  },
  {
   "cell_type": "code",
   "execution_count": 1,
   "metadata": {},
   "outputs": [],
   "source": [
    "import os\n",
    "import json\n",
    "import time\n",
    "import datetime\n",
    "import requests"
   ]
  },
  {
   "cell_type": "code",
   "execution_count": 2,
   "metadata": {},
   "outputs": [
    {
     "name": "stdout",
     "output_type": "stream",
     "text": [
      "Found API Key.\n"
     ]
    }
   ],
   "source": [
    "if 'STEAM_API_KEY' not in os.environ:\n",
    "  print(\"No API Key :(\")\n",
    "else:\n",
    "  print(\"Found API Key.\")\n",
    "  STEAM_API_KEY = os.environ['STEAM_API_KEY']"
   ]
  },
  {
   "cell_type": "markdown",
   "metadata": {},
   "source": [
    "Below I've modified the `__request` method to handle `429` (Too Many Request) errors. It looks like we can't really hit the API more than once every 5 seconds and that if we're limited, we have to wait for ~15 seconds.\n",
    "\n",
    "None of this is based off of any kind of documentation and could probably change at a moment's notice."
   ]
  },
  {
   "cell_type": "code",
   "execution_count": 3,
   "metadata": {},
   "outputs": [],
   "source": [
    "base_url = 'https://api.steampowered.com'\n",
    "\n",
    "def __request(method, path, **kwargs):\n",
    "  url = base_url + path\n",
    "  kwargs.setdefault('params', dict()).update(key=STEAM_API_KEY)\n",
    "  response = requests.request(method, url, **kwargs)\n",
    "\n",
    "  if response.status_code == 429:\n",
    "    print(\"Backing off.\")\n",
    "    print(response.headers)\n",
    "    time.sleep(15)\n",
    "    response = requests.request(method, url, **kwargs)\n",
    "  try:\n",
    "    response_json = response.json()\n",
    "    return response_json\n",
    "  except:\n",
    "    print(\"Error converting to json.\")\n",
    "    print(response)\n",
    "  \n",
    "\n",
    "def get_match_history_by_seq_num(seq_num, num_matches, **params):\n",
    "  path = '/IDOTA2Match_570/GetMatchHistoryBySequenceNum/V001'\n",
    "  params.update(start_at_match_seq_num=seq_num)\n",
    "  params.update(matches_requested=num_matches)  \n",
    "  return __request('get', path, params=params)"
   ]
  },
  {
   "cell_type": "code",
   "execution_count": 4,
   "metadata": {},
   "outputs": [],
   "source": [
    "# The starting sequence number.\n",
    "current_seq_num = 5126114401\n",
    "# The maximum number of matches the API will return at once.\n",
    "num_matches_per_request = 100\n",
    "# Total number of matches we'd like to save.\n",
    "num_total_matches = 10000"
   ]
  },
  {
   "cell_type": "code",
   "execution_count": 5,
   "metadata": {},
   "outputs": [
    {
     "name": "stdout",
     "output_type": "stream",
     "text": [
      "0 / 10000\n",
      "Complete. Training set size: 10095\n"
     ]
    }
   ],
   "source": [
    "training_set = []\n",
    "\n",
    "while len(training_set) < num_total_matches:\n",
    "    # Don't hit the API too frequently.\n",
    "    time.sleep(5)\n",
    "    response = get_match_history_by_seq_num(current_seq_num, num_matches_per_request)\n",
    "    \n",
    "    matches = response['result']['matches']\n",
    "    \n",
    "    if len(matches) != num_matches_per_request:\n",
    "        print(\"Problem. Expected: \" + num_matches_per_request + \" matches. Actual: \", len(matches))\n",
    "        print(response)\n",
    "        break\n",
    "            \n",
    "    for match in matches:\n",
    "        if match['human_players'] != 10:\n",
    "            # We only want \"real\" games of Dota so we're ignoring\n",
    "            # games without 10 human players.\n",
    "            continue\n",
    "        try:\n",
    "            players = match['players']\n",
    "            hero0 = players[0]['hero_id']\n",
    "            hero1 = players[1]['hero_id']\n",
    "            hero2 = players[2]['hero_id']\n",
    "            hero3 = players[3]['hero_id']\n",
    "            hero4 = players[4]['hero_id']\n",
    "            hero5 = players[5]['hero_id']\n",
    "            hero6 = players[6]['hero_id']\n",
    "            hero7 = players[7]['hero_id']\n",
    "            hero8 = players[8]['hero_id']\n",
    "            hero9 = players[9]['hero_id']\n",
    "            radiant_win = match['radiant_win']\n",
    "            training_set.append((hero0, hero1, hero2, hero3, hero4,\n",
    "                                hero5, hero6, hero7, hero8, hero9,\n",
    "                                radiant_win))\n",
    "        except:\n",
    "            print(\"Error:\", match)\n",
    "            break\n",
    "\n",
    "        \n",
    "    current_seq_num -= num_matches_per_request\n",
    "        \n",
    "print(\"Complete. Training set size:\", len(training_set))"
   ]
  },
  {
   "cell_type": "markdown",
   "metadata": {},
   "source": [
    "Now we just need to save our training set so we can feed it to a machine learning classifier later."
   ]
  },
  {
   "cell_type": "code",
   "execution_count": 6,
   "metadata": {},
   "outputs": [],
   "source": [
    "import pandas as pd"
   ]
  },
  {
   "cell_type": "code",
   "execution_count": 7,
   "metadata": {},
   "outputs": [
    {
     "data": {
      "text/html": [
       "<div>\n",
       "<style scoped>\n",
       "    .dataframe tbody tr th:only-of-type {\n",
       "        vertical-align: middle;\n",
       "    }\n",
       "\n",
       "    .dataframe tbody tr th {\n",
       "        vertical-align: top;\n",
       "    }\n",
       "\n",
       "    .dataframe thead th {\n",
       "        text-align: right;\n",
       "    }\n",
       "</style>\n",
       "<table border=\"1\" class=\"dataframe\">\n",
       "  <thead>\n",
       "    <tr style=\"text-align: right;\">\n",
       "      <th></th>\n",
       "      <th>hero0</th>\n",
       "      <th>hero1</th>\n",
       "      <th>hero2</th>\n",
       "      <th>hero3</th>\n",
       "      <th>hero4</th>\n",
       "      <th>hero5</th>\n",
       "      <th>hero6</th>\n",
       "      <th>hero7</th>\n",
       "      <th>hero8</th>\n",
       "      <th>hero9</th>\n",
       "      <th>radiant_win</th>\n",
       "    </tr>\n",
       "  </thead>\n",
       "  <tbody>\n",
       "    <tr>\n",
       "      <th>0</th>\n",
       "      <td>62</td>\n",
       "      <td>14</td>\n",
       "      <td>106</td>\n",
       "      <td>28</td>\n",
       "      <td>11</td>\n",
       "      <td>10</td>\n",
       "      <td>85</td>\n",
       "      <td>112</td>\n",
       "      <td>2</td>\n",
       "      <td>48</td>\n",
       "      <td>True</td>\n",
       "    </tr>\n",
       "    <tr>\n",
       "      <th>1</th>\n",
       "      <td>27</td>\n",
       "      <td>129</td>\n",
       "      <td>48</td>\n",
       "      <td>9</td>\n",
       "      <td>36</td>\n",
       "      <td>8</td>\n",
       "      <td>62</td>\n",
       "      <td>1</td>\n",
       "      <td>126</td>\n",
       "      <td>120</td>\n",
       "      <td>True</td>\n",
       "    </tr>\n",
       "    <tr>\n",
       "      <th>2</th>\n",
       "      <td>14</td>\n",
       "      <td>105</td>\n",
       "      <td>1</td>\n",
       "      <td>88</td>\n",
       "      <td>22</td>\n",
       "      <td>89</td>\n",
       "      <td>87</td>\n",
       "      <td>129</td>\n",
       "      <td>39</td>\n",
       "      <td>59</td>\n",
       "      <td>False</td>\n",
       "    </tr>\n",
       "    <tr>\n",
       "      <th>3</th>\n",
       "      <td>30</td>\n",
       "      <td>22</td>\n",
       "      <td>35</td>\n",
       "      <td>26</td>\n",
       "      <td>96</td>\n",
       "      <td>58</td>\n",
       "      <td>120</td>\n",
       "      <td>7</td>\n",
       "      <td>21</td>\n",
       "      <td>11</td>\n",
       "      <td>True</td>\n",
       "    </tr>\n",
       "    <tr>\n",
       "      <th>4</th>\n",
       "      <td>52</td>\n",
       "      <td>54</td>\n",
       "      <td>123</td>\n",
       "      <td>81</td>\n",
       "      <td>25</td>\n",
       "      <td>107</td>\n",
       "      <td>26</td>\n",
       "      <td>8</td>\n",
       "      <td>96</td>\n",
       "      <td>6</td>\n",
       "      <td>False</td>\n",
       "    </tr>\n",
       "  </tbody>\n",
       "</table>\n",
       "</div>"
      ],
      "text/plain": [
       "   hero0  hero1  hero2  hero3  hero4  hero5  hero6  hero7  hero8  hero9  \\\n",
       "0     62     14    106     28     11     10     85    112      2     48   \n",
       "1     27    129     48      9     36      8     62      1    126    120   \n",
       "2     14    105      1     88     22     89     87    129     39     59   \n",
       "3     30     22     35     26     96     58    120      7     21     11   \n",
       "4     52     54    123     81     25    107     26      8     96      6   \n",
       "\n",
       "   radiant_win  \n",
       "0         True  \n",
       "1         True  \n",
       "2        False  \n",
       "3         True  \n",
       "4        False  "
      ]
     },
     "execution_count": 7,
     "metadata": {},
     "output_type": "execute_result"
    }
   ],
   "source": [
    "df = pd.DataFrame(training_set, \n",
    "             columns=['hero0', 'hero1', 'hero2', 'hero3', 'hero4',\n",
    "                      'hero5', 'hero6', 'hero7', 'hero8', 'hero9',\n",
    "                      'radiant_win'])\n",
    "df.head()"
   ]
  },
  {
   "cell_type": "code",
   "execution_count": 8,
   "metadata": {},
   "outputs": [],
   "source": [
    "df.to_csv(\"training_set_small.csv\", index=False)"
   ]
  },
  {
   "cell_type": "markdown",
   "metadata": {},
   "source": [
    "Great, now we can try to traing a classifier on this dataset."
   ]
  }
 ],
 "metadata": {
  "kernelspec": {
   "display_name": "Python 3 (ipykernel)",
   "language": "python",
   "name": "python3"
  },
  "language_info": {
   "codemirror_mode": {
    "name": "ipython",
    "version": 3
   },
   "file_extension": ".py",
   "mimetype": "text/x-python",
   "name": "python",
   "nbconvert_exporter": "python",
   "pygments_lexer": "ipython3",
   "version": "3.8.10"
  }
 },
 "nbformat": 4,
 "nbformat_minor": 4
}
